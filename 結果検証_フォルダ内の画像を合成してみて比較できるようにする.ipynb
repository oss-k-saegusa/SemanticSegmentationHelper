{
  "nbformat": 4,
  "nbformat_minor": 0,
  "metadata": {
    "colab": {
      "name": "結果検証_フォルダ内の画像を合成してみて比較できるようにする.ipynb",
      "provenance": [],
      "collapsed_sections": []
    },
    "kernelspec": {
      "name": "python3",
      "display_name": "Python 3"
    },
    "accelerator": "GPU"
  },
  "cells": [
    {
      "cell_type": "markdown",
      "metadata": {
        "id": "KRS2DBSXOvNj"
      },
      "source": [
        "#（自分のアカウントの）Googleドライブをマウント\r\n"
      ]
    },
    {
      "cell_type": "code",
      "metadata": {
        "id": "qCoTedffkLbS"
      },
      "source": [
        "\r\n",
        "from google.colab import drive\r\n",
        "drive.mount('/content/drive')\r\n"
      ],
      "execution_count": null,
      "outputs": []
    },
    {
      "cell_type": "markdown",
      "metadata": {
        "id": "nswbWbSVO4DV"
      },
      "source": [
        "# どこのフォルダを合成するか？　どこに出力するか？　を指定してください。\r\n",
        "*  写真画像のフォルダは dir1\r\n",
        "*  アノテーションする画像のフォルダは dir2\r\n",
        "*  出力するフォルダは dir_out\r\n",
        "\r\n",
        "\r\n"
      ]
    },
    {
      "cell_type": "code",
      "metadata": {
        "id": "HwjXrgWrkpHm"
      },
      "source": [
        "\r\n",
        "import os\r\n",
        "\r\n",
        "base_dir = r\"/content/drive/MyDrive/OffloadContest/\"\r\n",
        "dir1= base_dir+ r\"train_images_A\"\r\n",
        "dir2= base_dir+r\"train_annotations_A\"\r\n",
        "dir_out = base_dir+r\"composits_A\"\r\n",
        "\r\n",
        "\r\n",
        "\r\n"
      ],
      "execution_count": null,
      "outputs": []
    },
    {
      "cell_type": "markdown",
      "metadata": {
        "id": "h2LggtGys2pB"
      },
      "source": [
        "#Check dir1/dir2に何がはいっているか\r\n",
        "\r\n",
        "*   PNGファイルが沢山あるはず？\r\n",
        "*   他のものはないはず？\r\n",
        "*   ソートしています\r\n",
        "\r\n"
      ]
    },
    {
      "cell_type": "code",
      "metadata": {
        "id": "oPYlHAXqsyfq"
      },
      "source": [
        "dir1_files = os.listdir(dir1)\r\n",
        "dir1_files.sort()\r\n",
        "print(dir1_files)\r\n",
        "\r\n",
        "dir2_files = os.listdir(dir2)\r\n",
        "dir2_files.sort()\r\n",
        "print(dir2_files)\r\n",
        "\r\n"
      ],
      "execution_count": null,
      "outputs": []
    },
    {
      "cell_type": "markdown",
      "metadata": {
        "id": "uhlnaT8SsOrb"
      },
      "source": [
        "# Check 最初の画像読み込んでみる"
      ]
    },
    {
      "cell_type": "code",
      "metadata": {
        "id": "io6a1dTtlGx4"
      },
      "source": [
        "import cv2\r\n",
        "fn=dir1_files[0]\r\n",
        "img1 = cv2.imread( os.path.join(dir1,fn))\r\n",
        "img2 = cv2.imread( os.path.join(dir2,fn))"
      ],
      "execution_count": null,
      "outputs": []
    },
    {
      "cell_type": "markdown",
      "metadata": {
        "id": "6K_oh59aQD7Y"
      },
      "source": [
        "# Check その画像を見てみる\r\n"
      ]
    },
    {
      "cell_type": "code",
      "metadata": {
        "id": "FK8rQpgz1XTl"
      },
      "source": [
        "import matplotlib.pyplot as plt\r\n",
        "img1 = cv2.cvtColor(img1, cv2.COLOR_BGR2RGB)\r\n",
        "plt.imshow(img1)\r\n"
      ],
      "execution_count": null,
      "outputs": []
    },
    {
      "cell_type": "code",
      "metadata": {
        "id": "5KBq1YvJlLmU"
      },
      "source": [
        "img2 = cv2.cvtColor(img2, cv2.COLOR_BGR2RGB)\r\n",
        "plt.imshow(img2)"
      ],
      "execution_count": null,
      "outputs": []
    },
    {
      "cell_type": "markdown",
      "metadata": {
        "id": "w9Y57PzzQQs-"
      },
      "source": [
        "#Check 画素数、フォーマットの確認\r\n",
        "\r\n",
        "*  画素数は同じと仮定していいのか？\r\n",
        "\r\n"
      ]
    },
    {
      "cell_type": "code",
      "metadata": {
        "id": "vdbO3p1q17ys"
      },
      "source": [
        "print(img1.shape)\r\n",
        "print(img2.shape)\r\n",
        "\r\n"
      ],
      "execution_count": null,
      "outputs": []
    },
    {
      "cell_type": "markdown",
      "metadata": {
        "id": "PZJ8GJF0RUI0"
      },
      "source": [
        "#Check 合成してみる\r\n",
        "合成する割合＝写真側を 0.3,  アノテーション側を 0.7 にしたらいい感じ？\r\n",
        "\r\n",
        "サイズが違う場合は合成前にあわせる必要があります。\r\n",
        "\r\n",
        "img1 =cv2.resize(img1,(800,600))\r\n",
        "\r\n",
        "など"
      ]
    },
    {
      "cell_type": "code",
      "metadata": {
        "id": "J9NSkz6wlTLS"
      },
      "source": [
        "img_out = cv2.addWeighted(src1=img1,alpha=0.3,src2=img2,beta=0.7, gamma=0)\r\n",
        "plt.imshow(img_out)"
      ],
      "execution_count": null,
      "outputs": []
    },
    {
      "cell_type": "markdown",
      "metadata": {
        "id": "amB9QCELTAsz"
      },
      "source": [
        "#フォルダ内のすべてのファイルを処理\r\n",
        "\r\n",
        "仕様\r\n",
        "*   dir1の中にあるファイルを列挙し、同じファイル名が dir2の中にあれば合成\r\n",
        "*   同じファイル名で、dir_outフォルダへ保存\r\n",
        "\r\n",
        "\r\n",
        "\r\n",
        "\r\n"
      ]
    },
    {
      "cell_type": "code",
      "metadata": {
        "id": "ujKpUsuT2iRs"
      },
      "source": [
        "import shutil\r\n",
        "shutil.rmtree(dir_out)\r\n",
        "os.makedirs(dir_out, exist_ok=True)\r\n",
        "\r\n",
        "for fn in dir1_files:\r\n",
        "  fn1=os.path.join(dir1,fn)\r\n",
        "  fn2=os.path.join(dir2,fn)\r\n",
        "  fn_out=os.path.join(dir_out,fn)\r\n",
        "\r\n",
        "  if(os.path.exists(fn2)):\r\n",
        "    img1 = cv2.imread(fn1)\r\n",
        "    img2 = cv2.imread(fn2)\r\n",
        "    img_out = cv2.addWeighted(src1=img1,alpha=0.3,src2=img2,beta=0.7, gamma=0)\r\n",
        "    print(fn_out)\r\n",
        "    cv2.imwrite(fn_out,img_out)\r\n",
        "\r\n",
        "\r\n",
        "\r\n"
      ],
      "execution_count": null,
      "outputs": []
    }
  ]
}