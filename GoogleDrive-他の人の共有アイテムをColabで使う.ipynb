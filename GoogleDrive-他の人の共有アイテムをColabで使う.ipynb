{
  "nbformat": 4,
  "nbformat_minor": 0,
  "metadata": {
    "colab": {
      "name": "GoogleDrive-他の人の共有アイテムをColabで使う.ipynb",
      "provenance": [],
      "collapsed_sections": []
    },
    "kernelspec": {
      "name": "python3",
      "display_name": "Python 3"
    }
  },
  "cells": [
    {
      "cell_type": "markdown",
      "metadata": {
        "id": "7ImTrQS_vODo"
      },
      "source": [
        "#Google Drive上に置かれた、データセットをチームで共有してColabで開く\r\n",
        "Google Driveで誰かが共有設定をしたフォルダ（一般的には、チームの誰かがダウンロードしたデータセットなどのフォルダ）を、Colabから（Colabにアップロードせずに）アクセスする方法\r\n",
        "\r\n",
        "#Why?\r\n",
        "\r\n",
        "\r\n",
        "*   膨大なデータセットはダウンロードやアップデートによく失敗する（今回も日曜日は時間をずらしても全然成功しなかった）\r\n",
        "*   データセットが共有できれば、学習結果も（なんでも）共有できる。\r\n",
        "*   誰かひとりがデータセット等を Google Drive上に展開できれば、チーム内 Make you Happy\r\n",
        "\r\n"
      ]
    },
    {
      "cell_type": "markdown",
      "metadata": {
        "id": "5uJAO7aBEOBt"
      },
      "source": [
        "#事前準備\r\n",
        "\r\n",
        "・GDrive　マイドライブに、shフォルダを作る。(空である）\r\n",
        "\r\n",
        "・GDrive 共有アイテムの中に「(Y氏からの) ds1」フォルダがあるとしよう。この「ショートカット」を、 マイドライブの下のshフォルダに置く。\r\n",
        "\r\n",
        "・下記スクリプトの実行\r\n",
        "\r\n"
      ]
    },
    {
      "cell_type": "code",
      "metadata": {
        "colab": {
          "base_uri": "https://localhost:8080/"
        },
        "id": "2FrCkaC95QIc",
        "outputId": "776058d0-24a5-43ef-e003-3d9fa78c5217"
      },
      "source": [
        "from google.colab import drive\r\n",
        "drive.mount('/content/drive')"
      ],
      "execution_count": null,
      "outputs": [
        {
          "output_type": "stream",
          "text": [
            "Mounted at /content/drive\n"
          ],
          "name": "stdout"
        }
      ]
    },
    {
      "cell_type": "markdown",
      "metadata": {
        "id": "P_lT1vnAFBmi"
      },
      "source": [
        "# Google Colaboratory の左のフォルダのところから、 sh フォルダの中身を確認\r\n",
        "\r\n"
      ]
    },
    {
      "cell_type": "code",
      "metadata": {
        "colab": {
          "base_uri": "https://localhost:8080/"
        },
        "id": "4d8fmYUX6QkG",
        "outputId": "3d6eb47a-f9b5-4060-8ab5-d2cc943459e1"
      },
      "source": [
        "import os\r\n",
        "\r\n",
        "dir = r\"/content/drive/MyDrive/sh/ds1/No10/result\"\r\n",
        "files = os.listdir(dir)\r\n",
        "files.sort()\r\n",
        "print(files)"
      ],
      "execution_count": null,
      "outputs": [
        {
          "output_type": "stream",
          "text": [
            "['precision_test_image_0000.png', 'precision_test_image_0001.png', 'precision_test_image_0002.png', 'precision_test_image_0003.png', 'precision_test_image_0004.png', 'precision_test_image_0005.png', 'precision_test_image_0006.png', 'precision_test_image_0007.png', 'precision_test_image_0008.png', 'precision_test_image_0009.png', 'precision_test_image_0010.png', 'precision_test_image_0011.png', 'precision_test_image_0012.png', 'precision_test_image_0013.png', 'precision_test_image_0014.png', 'precision_test_image_0015.png', 'precision_test_image_0016.png', 'precision_test_image_0017.png', 'precision_test_image_0018.png', 'precision_test_image_0019.png', 'precision_test_image_0020.png', 'precision_test_image_0021.png', 'precision_test_image_0022.png', 'precision_test_image_0023.png', 'precision_test_image_0024.png', 'precision_test_image_0025.png', 'precision_test_image_0026.png', 'precision_test_image_0027.png', 'precision_test_image_0028.png', 'precision_test_image_0029.png', 'precision_test_image_0030.png', 'precision_test_image_0031.png', 'precision_test_image_0032.png', 'precision_test_image_0033.png', 'precision_test_image_0034.png', 'precision_test_image_0035.png', 'precision_test_image_0036.png', 'precision_test_image_0037.png', 'precision_test_image_0038.png', 'precision_test_image_0039.png', 'precision_test_image_0040.png', 'precision_test_image_0041.png', 'precision_test_image_0042.png', 'precision_test_image_0043.png', 'precision_test_image_0044.png', 'precision_test_image_0045.png', 'precision_test_image_0046.png', 'precision_test_image_0047.png', 'precision_test_image_0048.png', 'precision_test_image_0049.png', 'precision_test_image_0050.png', 'precision_test_image_0051.png', 'precision_test_image_0052.png', 'precision_test_image_0053.png', 'precision_test_image_0054.png', 'precision_test_image_0055.png', 'precision_test_image_0056.png', 'precision_test_image_0057.png', 'precision_test_image_0058.png', 'precision_test_image_0059.png', 'precision_test_image_0060.png', 'precision_test_image_0061.png', 'precision_test_image_0062.png', 'precision_test_image_0063.png', 'precision_test_image_0064.png', 'precision_test_image_0065.png', 'precision_test_image_0066.png', 'precision_test_image_0067.png', 'precision_test_image_0068.png', 'precision_test_image_0069.png', 'precision_test_image_0070.png', 'precision_test_image_0071.png', 'precision_test_image_0072.png', 'precision_test_image_0073.png', 'precision_test_image_0074.png', 'precision_test_image_0075.png', 'precision_test_image_0076.png', 'precision_test_image_0077.png', 'precision_test_image_0078.png', 'precision_test_image_0079.png', 'precision_test_image_0080.png', 'precision_test_image_0081.png', 'precision_test_image_0082.png', 'precision_test_image_0083.png', 'precision_test_image_0084.png', 'precision_test_image_0085.png', 'precision_test_image_0086.png', 'precision_test_image_0087.png', 'precision_test_image_0088.png', 'precision_test_image_0089.png', 'precision_test_image_0090.png', 'precision_test_image_0091.png', 'precision_test_image_0092.png', 'precision_test_image_0093.png', 'precision_test_image_0094.png', 'precision_test_image_0095.png', 'precision_test_image_0096.png', 'precision_test_image_0097.png', 'precision_test_image_0098.png', 'precision_test_image_0099.png', 'precision_test_image_0100.png', 'precision_test_image_0101.png', 'precision_test_image_0102.png', 'precision_test_image_0103.png', 'precision_test_image_0104.png', 'precision_test_image_0105.png', 'precision_test_image_0106.png', 'precision_test_image_0107.png', 'precision_test_image_0108.png', 'precision_test_image_0109.png', 'precision_test_image_0110.png', 'precision_test_image_0111.png', 'precision_test_image_0112.png', 'precision_test_image_0113.png', 'precision_test_image_0114.png', 'precision_test_image_0115.png', 'precision_test_image_0116.png', 'precision_test_image_0117.png', 'precision_test_image_0118.png', 'precision_test_image_0119.png', 'precision_test_image_0120.png', 'precision_test_image_0121.png', 'precision_test_image_0122.png', 'precision_test_image_0123.png', 'precision_test_image_0124.png', 'precision_test_image_0125.png', 'precision_test_image_0126.png', 'precision_test_image_0127.png', 'precision_test_image_0128.png', 'precision_test_image_0129.png', 'precision_test_image_0130.png', 'precision_test_image_0131.png', 'precision_test_image_0132.png', 'precision_test_image_0133.png', 'precision_test_image_0134.png', 'precision_test_image_0135.png', 'precision_test_image_0136.png', 'precision_test_image_0137.png', 'precision_test_image_0138.png', 'precision_test_image_0139.png', 'precision_test_image_0140.png', 'precision_test_image_0141.png', 'precision_test_image_0142.png', 'precision_test_image_0143.png', 'precision_test_image_0144.png', 'precision_test_image_0145.png', 'precision_test_image_0146.png', 'precision_test_image_0147.png', 'precision_test_image_0148.png', 'precision_test_image_0149.png', 'precision_test_image_0150.png', 'precision_test_image_0151.png', 'precision_test_image_0152.png', 'precision_test_image_0153.png', 'precision_test_image_0154.png', 'precision_test_image_0155.png', 'precision_test_image_0156.png', 'precision_test_image_0157.png', 'precision_test_image_0158.png', 'precision_test_image_0159.png', 'precision_test_image_0160.png', 'precision_test_image_0161.png', 'precision_test_image_0162.png', 'precision_test_image_0163.png', 'precision_test_image_0164.png', 'precision_test_image_0165.png', 'precision_test_image_0166.png', 'precision_test_image_0167.png', 'precision_test_image_0168.png', 'precision_test_image_0169.png', 'precision_test_image_0170.png', 'precision_test_image_0171.png', 'precision_test_image_0172.png', 'precision_test_image_0173.png', 'precision_test_image_0174.png', 'precision_test_image_0175.png', 'precision_test_image_0176.png', 'precision_test_image_0177.png', 'precision_test_image_0178.png', 'precision_test_image_0179.png', 'precision_test_image_0180.png', 'precision_test_image_0181.png', 'precision_test_image_0182.png', 'precision_test_image_0183.png', 'precision_test_image_0184.png', 'precision_test_image_0185.png', 'precision_test_image_0186.png', 'precision_test_image_0187.png', 'precision_test_image_0188.png', 'precision_test_image_0189.png', 'precision_test_image_0190.png', 'precision_test_image_0191.png', 'precision_test_image_0192.png', 'precision_test_image_0193.png', 'precision_test_image_0194.png', 'precision_test_image_0195.png', 'precision_test_image_0196.png', 'precision_test_image_0197.png', 'precision_test_image_0198.png', 'precision_test_image_0199.png', 'precision_test_image_0200.png', 'precision_test_image_0201.png', 'precision_test_image_0202.png', 'precision_test_image_0203.png', 'precision_test_image_0204.png', 'precision_test_image_0205.png', 'precision_test_image_0206.png', 'precision_test_image_0207.png', 'precision_test_image_0208.png', 'precision_test_image_0209.png', 'precision_test_image_0210.png', 'precision_test_image_0211.png', 'precision_test_image_0212.png', 'precision_test_image_0213.png', 'precision_test_image_0214.png', 'precision_test_image_0215.png', 'precision_test_image_0216.png', 'precision_test_image_0217.png', 'precision_test_image_0218.png', 'precision_test_image_0219.png', 'precision_test_image_0220.png', 'precision_test_image_0221.png', 'precision_test_image_0222.png', 'precision_test_image_0223.png', 'precision_test_image_0224.png', 'precision_test_image_0225.png', 'precision_test_image_0226.png', 'precision_test_image_0227.png', 'precision_test_image_0228.png', 'precision_test_image_0229.png', 'precision_test_image_0230.png', 'precision_test_image_0231.png', 'precision_test_image_0232.png', 'precision_test_image_0233.png', 'precision_test_image_0234.png', 'precision_test_image_0235.png', 'precision_test_image_0236.png', 'precision_test_image_0237.png', 'precision_test_image_0238.png', 'precision_test_image_0239.png', 'precision_test_image_0240.png', 'precision_test_image_0241.png', 'precision_test_image_0242.png', 'precision_test_image_0243.png', 'precision_test_image_0244.png', 'precision_test_image_0245.png', 'precision_test_image_0246.png', 'precision_test_image_0247.png', 'precision_test_image_0248.png', 'precision_test_image_0249.png', 'precision_test_image_0250.png', 'precision_test_image_0251.png', 'precision_test_image_0252.png', 'precision_test_image_0253.png', 'precision_test_image_0254.png', 'precision_test_image_0255.png', 'precision_test_image_0256.png', 'precision_test_image_0257.png', 'precision_test_image_0258.png', 'precision_test_image_0259.png', 'precision_test_image_0260.png', 'precision_test_image_0261.png', 'precision_test_image_0262.png', 'precision_test_image_0263.png', 'precision_test_image_0264.png', 'precision_test_image_0265.png', 'precision_test_image_0266.png', 'precision_test_image_0267.png', 'precision_test_image_0268.png', 'precision_test_image_0269.png', 'precision_test_image_0270.png', 'precision_test_image_0271.png', 'precision_test_image_0272.png', 'precision_test_image_0273.png', 'precision_test_image_0274.png', 'precision_test_image_0275.png', 'precision_test_image_0276.png', 'precision_test_image_0277.png', 'precision_test_image_0278.png', 'precision_test_image_0279.png', 'precision_test_image_0280.png', 'precision_test_image_0281.png', 'precision_test_image_0282.png', 'precision_test_image_0283.png', 'precision_test_image_0284.png', 'precision_test_image_0285.png', 'precision_test_image_0286.png', 'precision_test_image_0287.png', 'precision_test_image_0288.png', 'precision_test_image_0289.png', 'precision_test_image_0290.png', 'precision_test_image_0291.png', 'precision_test_image_0292.png', 'precision_test_image_0293.png', 'precision_test_image_0294.png', 'precision_test_image_0295.png', 'precision_test_image_0296.png', 'precision_test_image_0297.png', 'precision_test_image_0298.png', 'precision_test_image_0299.png', 'precision_test_image_0300.png', 'precision_test_image_0301.png', 'precision_test_image_0302.png', 'precision_test_image_0303.png', 'precision_test_image_0304.png', 'precision_test_image_0305.png', 'precision_test_image_0306.png', 'precision_test_image_0307.png', 'precision_test_image_0308.png', 'precision_test_image_0309.png', 'precision_test_image_0310.png', 'precision_test_image_0311.png', 'precision_test_image_0312.png', 'precision_test_image_0313.png', 'precision_test_image_0314.png', 'precision_test_image_0315.png', 'precision_test_image_0316.png', 'precision_test_image_0317.png', 'precision_test_image_0318.png', 'precision_test_image_0319.png', 'precision_test_image_0320.png', 'precision_test_image_0321.png', 'precision_test_image_0322.png', 'precision_test_image_0323.png', 'precision_test_image_0324.png', 'precision_test_image_0325.png', 'precision_test_image_0326.png', 'precision_test_image_0327.png', 'precision_test_image_0328.png', 'precision_test_image_0329.png', 'precision_test_image_0330.png', 'precision_test_image_0331.png', 'precision_test_image_0332.png', 'precision_test_image_0333.png', 'precision_test_image_0334.png', 'precision_test_image_0335.png', 'precision_test_image_0336.png', 'precision_test_image_0337.png', 'precision_test_image_0338.png', 'precision_test_image_0339.png', 'precision_test_image_0340.png', 'precision_test_image_0341.png', 'precision_test_image_0342.png', 'precision_test_image_0343.png', 'precision_test_image_0344.png', 'precision_test_image_0345.png', 'precision_test_image_0346.png', 'precision_test_image_0347.png', 'precision_test_image_0348.png', 'precision_test_image_0349.png', 'precision_test_image_0350.png', 'precision_test_image_0351.png', 'precision_test_image_0352.png', 'precision_test_image_0353.png', 'precision_test_image_0354.png', 'precision_test_image_0355.png', 'precision_test_image_0356.png', 'precision_test_image_0357.png', 'precision_test_image_0358.png', 'precision_test_image_0359.png', 'precision_test_image_0360.png', 'precision_test_image_0361.png', 'precision_test_image_0362.png', 'precision_test_image_0363.png', 'precision_test_image_0364.png', 'precision_test_image_0365.png', 'precision_test_image_0366.png', 'precision_test_image_0367.png', 'precision_test_image_0368.png', 'precision_test_image_0369.png', 'precision_test_image_0370.png', 'precision_test_image_0371.png', 'precision_test_image_0372.png', 'precision_test_image_0373.png', 'precision_test_image_0374.png', 'precision_test_image_0375.png', 'precision_test_image_0376.png', 'precision_test_image_0377.png', 'precision_test_image_0378.png', 'precision_test_image_0379.png', 'precision_test_image_0380.png', 'precision_test_image_0381.png', 'precision_test_image_0382.png', 'precision_test_image_0383.png', 'precision_test_image_0384.png', 'precision_test_image_0385.png', 'precision_test_image_0386.png', 'precision_test_image_0387.png', 'precision_test_image_0388.png', 'precision_test_image_0389.png', 'precision_test_image_0390.png', 'precision_test_image_0391.png', 'precision_test_image_0392.png', 'precision_test_image_0393.png', 'precision_test_image_0394.png', 'precision_test_image_0395.png', 'precision_test_image_0396.png', 'precision_test_image_0397.png', 'precision_test_image_0398.png', 'precision_test_image_0399.png', 'precision_test_image_0400.png', 'precision_test_image_0401.png', 'precision_test_image_0402.png', 'precision_test_image_0403.png', 'precision_test_image_0404.png', 'precision_test_image_0405.png', 'precision_test_image_0406.png', 'precision_test_image_0407.png', 'precision_test_image_0408.png', 'precision_test_image_0409.png', 'precision_test_image_0410.png', 'precision_test_image_0411.png', 'precision_test_image_0412.png', 'precision_test_image_0413.png', 'precision_test_image_0414.png', 'precision_test_image_0415.png', 'precision_test_image_0416.png', 'precision_test_image_0417.png', 'precision_test_image_0418.png', 'precision_test_image_0419.png', 'precision_test_image_0420.png', 'precision_test_image_0421.png', 'precision_test_image_0422.png', 'precision_test_image_0423.png', 'precision_test_image_0424.png', 'precision_test_image_0425.png', 'precision_test_image_0426.png', 'precision_test_image_0427.png', 'precision_test_image_0428.png', 'precision_test_image_0429.png', 'precision_test_image_0430.png', 'precision_test_image_0431.png', 'precision_test_image_0432.png', 'precision_test_image_0433.png', 'precision_test_image_0434.png', 'precision_test_image_0435.png', 'precision_test_image_0436.png', 'precision_test_image_0437.png', 'precision_test_image_0438.png', 'precision_test_image_0439.png', 'precision_test_image_0440.png', 'precision_test_image_0441.png', 'precision_test_image_0442.png', 'precision_test_image_0443.png', 'precision_test_image_0444.png', 'precision_test_image_0445.png', 'precision_test_image_0446.png', 'precision_test_image_0447.png', 'precision_test_image_0448.png', 'precision_test_image_0449.png', 'precision_test_image_0450.png', 'precision_test_image_0451.png', 'precision_test_image_0452.png', 'precision_test_image_0453.png', 'precision_test_image_0454.png', 'precision_test_image_0455.png', 'precision_test_image_0456.png', 'precision_test_image_0457.png', 'precision_test_image_0458.png', 'precision_test_image_0459.png', 'precision_test_image_0460.png', 'precision_test_image_0461.png', 'precision_test_image_0462.png', 'precision_test_image_0463.png', 'precision_test_image_0464.png', 'precision_test_image_0465.png', 'precision_test_image_0466.png', 'precision_test_image_0467.png', 'precision_test_image_0468.png', 'precision_test_image_0469.png', 'precision_test_image_0470.png', 'precision_test_image_0471.png', 'precision_test_image_0472.png', 'precision_test_image_0473.png', 'precision_test_image_0474.png', 'precision_test_image_0475.png', 'precision_test_image_0476.png', 'precision_test_image_0477.png', 'precision_test_image_0478.png', 'precision_test_image_0479.png', 'precision_test_image_0480.png', 'precision_test_image_0481.png', 'precision_test_image_0482.png', 'precision_test_image_0483.png', 'precision_test_image_0484.png', 'precision_test_image_0485.png', 'precision_test_image_0486.png', 'precision_test_image_0487.png', 'precision_test_image_0488.png', 'precision_test_image_0489.png', 'precision_test_image_0490.png', 'precision_test_image_0491.png', 'precision_test_image_0492.png', 'precision_test_image_0493.png', 'precision_test_image_0494.png', 'precision_test_image_0495.png', 'precision_test_image_0496.png', 'precision_test_image_0497.png', 'precision_test_image_0498.png', 'precision_test_image_0499.png', 'precision_test_image_0500.png', 'precision_test_image_0501.png', 'precision_test_image_0502.png', 'precision_test_image_0503.png', 'precision_test_image_0504.png', 'precision_test_image_0505.png', 'precision_test_image_0506.png', 'precision_test_image_0507.png', 'precision_test_image_0508.png', 'precision_test_image_0509.png', 'precision_test_image_0510.png', 'precision_test_image_0511.png', 'precision_test_image_0512.png', 'precision_test_image_0513.png', 'precision_test_image_0514.png', 'precision_test_image_0515.png', 'precision_test_image_0516.png', 'precision_test_image_0517.png', 'precision_test_image_0518.png', 'precision_test_image_0519.png', 'precision_test_image_0520.png', 'precision_test_image_0521.png', 'precision_test_image_0522.png', 'precision_test_image_0523.png', 'precision_test_image_0524.png', 'precision_test_image_0525.png', 'precision_test_image_0526.png', 'precision_test_image_0527.png', 'precision_test_image_0528.png', 'precision_test_image_0529.png', 'precision_test_image_0530.png', 'precision_test_image_0531.png', 'precision_test_image_0532.png', 'precision_test_image_0533.png', 'precision_test_image_0534.png', 'precision_test_image_0535.png', 'precision_test_image_0536.png', 'precision_test_image_0537.png', 'precision_test_image_0538.png', 'precision_test_image_0539.png', 'precision_test_image_0540.png', 'precision_test_image_0541.png', 'precision_test_image_0542.png', 'precision_test_image_0543.png', 'precision_test_image_0544.png', 'precision_test_image_0545.png', 'precision_test_image_0546.png', 'precision_test_image_0547.png', 'precision_test_image_0548.png', 'precision_test_image_0549.png', 'precision_test_image_0550.png', 'precision_test_image_0551.png', 'precision_test_image_0552.png', 'precision_test_image_0553.png', 'precision_test_image_0554.png', 'precision_test_image_0555.png', 'precision_test_image_0556.png', 'precision_test_image_0557.png', 'precision_test_image_0558.png', 'precision_test_image_0559.png', 'precision_test_image_0560.png', 'precision_test_image_0561.png', 'precision_test_image_0562.png', 'precision_test_image_0563.png', 'precision_test_image_0564.png', 'precision_test_image_0565.png', 'precision_test_image_0566.png', 'precision_test_image_0567.png', 'precision_test_image_0568.png', 'precision_test_image_0569.png', 'precision_test_image_0570.png', 'precision_test_image_0571.png', 'precision_test_image_0572.png', 'precision_test_image_0573.png', 'precision_test_image_0574.png', 'precision_test_image_0575.png', 'precision_test_image_0576.png', 'precision_test_image_0577.png', 'precision_test_image_0578.png', 'precision_test_image_0579.png', 'precision_test_image_0580.png', 'precision_test_image_0581.png', 'precision_test_image_0582.png', 'precision_test_image_0583.png', 'precision_test_image_0584.png', 'precision_test_image_0585.png', 'precision_test_image_0586.png', 'precision_test_image_0587.png', 'precision_test_image_0588.png', 'precision_test_image_0589.png', 'precision_test_image_0590.png', 'precision_test_image_0591.png', 'precision_test_image_0592.png', 'precision_test_image_0593.png', 'precision_test_image_0594.png', 'precision_test_image_0595.png', 'precision_test_image_0596.png', 'precision_test_image_0597.png', 'precision_test_image_0598.png', 'precision_test_image_0599.png', 'precision_test_image_0600.png', 'precision_test_image_0601.png', 'precision_test_image_0602.png', 'precision_test_image_0603.png', 'precision_test_image_0604.png', 'precision_test_image_0605.png', 'precision_test_image_0606.png', 'precision_test_image_0607.png', 'precision_test_image_0608.png', 'precision_test_image_0609.png', 'precision_test_image_0610.png', 'precision_test_image_0611.png', 'precision_test_image_0612.png', 'precision_test_image_0613.png', 'precision_test_image_0614.png', 'precision_test_image_0615.png', 'precision_test_image_0616.png', 'precision_test_image_0617.png', 'precision_test_image_0618.png', 'precision_test_image_0619.png', 'precision_test_image_0620.png', 'precision_test_image_0621.png', 'precision_test_image_0622.png', 'precision_test_image_0623.png', 'precision_test_image_0624.png', 'precision_test_image_0625.png', 'precision_test_image_0626.png', 'precision_test_image_0627.png', 'precision_test_image_0628.png', 'precision_test_image_0629.png', 'precision_test_image_0630.png', 'precision_test_image_0631.png', 'precision_test_image_0632.png', 'precision_test_image_0633.png', 'precision_test_image_0634.png', 'precision_test_image_0635.png', 'precision_test_image_0636.png', 'precision_test_image_0637.png', 'precision_test_image_0638.png', 'precision_test_image_0639.png']\n"
          ],
          "name": "stdout"
        }
      ]
    },
    {
      "cell_type": "markdown",
      "metadata": {
        "id": "PvVSuyUUE7e3"
      },
      "source": [
        "# 結果\r\n",
        "* Colabから dir で指定したフォルダにアクセスできるか？　⇒　出来た。\r\n",
        "\r\n",
        "* 容量は使っていないように思われます。\r\n",
        "\r\n",
        "* Google Driveではショートカットがあるだけですが・・・Colabからは、フォルダやファイルが展開されているように見えます。実際 Pythonコードからはファイルを開いたりできました。\r\n",
        "\r\n",
        "* ただし、今後のGoogle Drive / Colabの仕様変更はあるかもしれません。\r\n"
      ]
    }
  ]
}
